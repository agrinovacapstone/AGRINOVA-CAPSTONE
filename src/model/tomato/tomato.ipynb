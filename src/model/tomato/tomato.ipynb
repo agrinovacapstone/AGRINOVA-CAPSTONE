{
  "nbformat": 4,
  "nbformat_minor": 0,
  "metadata": {
    "colab": {
      "provenance": [],
      "gpuType": "T4"
    },
    "kernelspec": {
      "name": "python3",
      "display_name": "Python 3"
    },
    "language_info": {
      "name": "python"
    },
    "accelerator": "GPU"
  },
  "cells": [
    {
      "cell_type": "code",
      "source": [
        "!pip install kaggle"
      ],
      "metadata": {
        "colab": {
          "base_uri": "https://localhost:8080/"
        },
        "id": "Qwp4RTtHwAoT",
        "outputId": "198e1229-b150-4b11-f81e-04dfffb3b64f"
      },
      "execution_count": 1,
      "outputs": [
        {
          "output_type": "stream",
          "name": "stdout",
          "text": [
            "Looking in indexes: https://pypi.org/simple, https://us-python.pkg.dev/colab-wheels/public/simple/\n",
            "Requirement already satisfied: kaggle in /usr/local/lib/python3.10/dist-packages (1.5.13)\n",
            "Requirement already satisfied: six>=1.10 in /usr/local/lib/python3.10/dist-packages (from kaggle) (1.16.0)\n",
            "Requirement already satisfied: certifi in /usr/local/lib/python3.10/dist-packages (from kaggle) (2022.12.7)\n",
            "Requirement already satisfied: python-dateutil in /usr/local/lib/python3.10/dist-packages (from kaggle) (2.8.2)\n",
            "Requirement already satisfied: requests in /usr/local/lib/python3.10/dist-packages (from kaggle) (2.27.1)\n",
            "Requirement already satisfied: tqdm in /usr/local/lib/python3.10/dist-packages (from kaggle) (4.65.0)\n",
            "Requirement already satisfied: python-slugify in /usr/local/lib/python3.10/dist-packages (from kaggle) (8.0.1)\n",
            "Requirement already satisfied: urllib3 in /usr/local/lib/python3.10/dist-packages (from kaggle) (1.26.15)\n",
            "Requirement already satisfied: text-unidecode>=1.3 in /usr/local/lib/python3.10/dist-packages (from python-slugify->kaggle) (1.3)\n",
            "Requirement already satisfied: charset-normalizer~=2.0.0 in /usr/local/lib/python3.10/dist-packages (from requests->kaggle) (2.0.12)\n",
            "Requirement already satisfied: idna<4,>=2.5 in /usr/local/lib/python3.10/dist-packages (from requests->kaggle) (3.4)\n"
          ]
        }
      ]
    },
    {
      "cell_type": "code",
      "execution_count": 2,
      "metadata": {
        "id": "02cbh2skvYto"
      },
      "outputs": [],
      "source": [
        "!chmod 600 /content/kaggle.json"
      ]
    },
    {
      "cell_type": "code",
      "source": [
        "!mkdir -p ~/.kaggle\n",
        "!cp /content/kaggle.json ~/.kaggle/"
      ],
      "metadata": {
        "id": "PYT_7UKdwDeb"
      },
      "execution_count": 3,
      "outputs": []
    },
    {
      "cell_type": "code",
      "source": [
        "!kaggle datasets download -d kaustubhb999/tomatoleaf"
      ],
      "metadata": {
        "colab": {
          "base_uri": "https://localhost:8080/"
        },
        "id": "eHIwY4qxwGNO",
        "outputId": "3a3cd162-925c-4b7d-ee94-1dc36baf5334"
      },
      "execution_count": 4,
      "outputs": [
        {
          "output_type": "stream",
          "name": "stdout",
          "text": [
            "Downloading tomatoleaf.zip to /content\n",
            " 94% 169M/179M [00:01<00:00, 129MB/s]\n",
            "100% 179M/179M [00:01<00:00, 130MB/s]\n"
          ]
        }
      ]
    },
    {
      "cell_type": "code",
      "source": [
        "import tensorflow as tf\n",
        "from tensorflow import keras\n",
        "from keras.preprocessing.image import ImageDataGenerator\n",
        "from keras.applications import MobileNet\n",
        "import zipfile"
      ],
      "metadata": {
        "id": "mSSheWEYwKY_"
      },
      "execution_count": 5,
      "outputs": []
    },
    {
      "cell_type": "code",
      "source": [
        "zip_source = '/content/tomatoleaf.zip'\n",
        "extract_destination = '/content/dataset/tomato'\n",
        "\n",
        "with zipfile.ZipFile(zip_source, 'r') as zip_ref:\n",
        "  zip_ref.extractall(extract_destination)\n",
        "  zip_ref.close()"
      ],
      "metadata": {
        "id": "r4BIVYVzyxyH"
      },
      "execution_count": 6,
      "outputs": []
    },
    {
      "cell_type": "code",
      "source": [
        "train_dir = '/content/dataset/tomato/tomato/train'\n",
        "val_dir = '/content/dataset/tomato/tomato/val'\n",
        "\n",
        "train_datagen = ImageDataGenerator(rescale=1./255,\n",
        "                                   shear_range=0.2,\n",
        "                                   rotation_range=40,\n",
        "                                   horizontal_flip=True,\n",
        "                                   fill_mode='nearest')\n",
        "\n",
        "val_datagen = ImageDataGenerator(rescale=1./255)\n",
        "\n",
        "train_generator = train_datagen.flow_from_directory(\n",
        "    train_dir,\n",
        "    target_size=(150, 150),\n",
        "    batch_size=128,\n",
        "    class_mode='categorical'\n",
        ")\n",
        "\n",
        "val_generator = val_datagen.flow_from_directory(\n",
        "    val_dir,\n",
        "    target_size=(150, 150),\n",
        "    batch_size=128,\n",
        "    shuffle=True,\n",
        "    class_mode='categorical'\n",
        ")"
      ],
      "metadata": {
        "id": "MXK8h47ozFPq",
        "colab": {
          "base_uri": "https://localhost:8080/"
        },
        "outputId": "d41f62b6-d37e-42ad-cba8-2b1507d5ab34"
      },
      "execution_count": 7,
      "outputs": [
        {
          "output_type": "stream",
          "name": "stdout",
          "text": [
            "Found 10000 images belonging to 10 classes.\n",
            "Found 1000 images belonging to 10 classes.\n"
          ]
        }
      ]
    },
    {
      "cell_type": "code",
      "source": [
        "class myCallback(tf.keras.callbacks.Callback):\n",
        "  def on_epoch_end(self, epoch, logs={}):\n",
        "    if (logs.get('val_loss') < 0.1) and (logs.get('val_accuracy') > 0.94):\n",
        "      print(\"accuracy > 94\")\n",
        "      self.model.stop_training = True\n",
        "\n",
        "callbacks = myCallback()"
      ],
      "metadata": {
        "id": "xMq01_QbIxFS"
      },
      "execution_count": 8,
      "outputs": []
    },
    {
      "cell_type": "code",
      "source": [
        "base_model = MobileNet(weights='imagenet', include_top=False, input_shape=(150, 150, 3))\n",
        "\n",
        "for layer in base_model.layers:\n",
        "    layer.trainable = False"
      ],
      "metadata": {
        "colab": {
          "base_uri": "https://localhost:8080/"
        },
        "id": "pmfWEgckG1tO",
        "outputId": "6ab6fb98-716e-4ddc-f391-559e2f842fb9"
      },
      "execution_count": 9,
      "outputs": [
        {
          "output_type": "stream",
          "name": "stderr",
          "text": [
            "WARNING:tensorflow:`input_shape` is undefined or non-square, or `rows` is not in [128, 160, 192, 224]. Weights for input shape (224, 224) will be loaded as the default.\n"
          ]
        },
        {
          "output_type": "stream",
          "name": "stdout",
          "text": [
            "Downloading data from https://storage.googleapis.com/tensorflow/keras-applications/mobilenet/mobilenet_1_0_224_tf_no_top.h5\n",
            "17225924/17225924 [==============================] - 0s 0us/step\n"
          ]
        }
      ]
    },
    {
      "cell_type": "code",
      "source": [
        "base_model.summary()"
      ],
      "metadata": {
        "colab": {
          "base_uri": "https://localhost:8080/"
        },
        "id": "nUyR0ieDG3uR",
        "outputId": "f983e41f-1f71-4dbf-8b05-ff7d5bf6dcf2"
      },
      "execution_count": 10,
      "outputs": [
        {
          "output_type": "stream",
          "name": "stdout",
          "text": [
            "Model: \"mobilenet_1.00_224\"\n",
            "_________________________________________________________________\n",
            " Layer (type)                Output Shape              Param #   \n",
            "=================================================================\n",
            " input_1 (InputLayer)        [(None, 150, 150, 3)]     0         \n",
            "                                                                 \n",
            " conv1 (Conv2D)              (None, 75, 75, 32)        864       \n",
            "                                                                 \n",
            " conv1_bn (BatchNormalizatio  (None, 75, 75, 32)       128       \n",
            " n)                                                              \n",
            "                                                                 \n",
            " conv1_relu (ReLU)           (None, 75, 75, 32)        0         \n",
            "                                                                 \n",
            " conv_dw_1 (DepthwiseConv2D)  (None, 75, 75, 32)       288       \n",
            "                                                                 \n",
            " conv_dw_1_bn (BatchNormaliz  (None, 75, 75, 32)       128       \n",
            " ation)                                                          \n",
            "                                                                 \n",
            " conv_dw_1_relu (ReLU)       (None, 75, 75, 32)        0         \n",
            "                                                                 \n",
            " conv_pw_1 (Conv2D)          (None, 75, 75, 64)        2048      \n",
            "                                                                 \n",
            " conv_pw_1_bn (BatchNormaliz  (None, 75, 75, 64)       256       \n",
            " ation)                                                          \n",
            "                                                                 \n",
            " conv_pw_1_relu (ReLU)       (None, 75, 75, 64)        0         \n",
            "                                                                 \n",
            " conv_pad_2 (ZeroPadding2D)  (None, 76, 76, 64)        0         \n",
            "                                                                 \n",
            " conv_dw_2 (DepthwiseConv2D)  (None, 37, 37, 64)       576       \n",
            "                                                                 \n",
            " conv_dw_2_bn (BatchNormaliz  (None, 37, 37, 64)       256       \n",
            " ation)                                                          \n",
            "                                                                 \n",
            " conv_dw_2_relu (ReLU)       (None, 37, 37, 64)        0         \n",
            "                                                                 \n",
            " conv_pw_2 (Conv2D)          (None, 37, 37, 128)       8192      \n",
            "                                                                 \n",
            " conv_pw_2_bn (BatchNormaliz  (None, 37, 37, 128)      512       \n",
            " ation)                                                          \n",
            "                                                                 \n",
            " conv_pw_2_relu (ReLU)       (None, 37, 37, 128)       0         \n",
            "                                                                 \n",
            " conv_dw_3 (DepthwiseConv2D)  (None, 37, 37, 128)      1152      \n",
            "                                                                 \n",
            " conv_dw_3_bn (BatchNormaliz  (None, 37, 37, 128)      512       \n",
            " ation)                                                          \n",
            "                                                                 \n",
            " conv_dw_3_relu (ReLU)       (None, 37, 37, 128)       0         \n",
            "                                                                 \n",
            " conv_pw_3 (Conv2D)          (None, 37, 37, 128)       16384     \n",
            "                                                                 \n",
            " conv_pw_3_bn (BatchNormaliz  (None, 37, 37, 128)      512       \n",
            " ation)                                                          \n",
            "                                                                 \n",
            " conv_pw_3_relu (ReLU)       (None, 37, 37, 128)       0         \n",
            "                                                                 \n",
            " conv_pad_4 (ZeroPadding2D)  (None, 38, 38, 128)       0         \n",
            "                                                                 \n",
            " conv_dw_4 (DepthwiseConv2D)  (None, 18, 18, 128)      1152      \n",
            "                                                                 \n",
            " conv_dw_4_bn (BatchNormaliz  (None, 18, 18, 128)      512       \n",
            " ation)                                                          \n",
            "                                                                 \n",
            " conv_dw_4_relu (ReLU)       (None, 18, 18, 128)       0         \n",
            "                                                                 \n",
            " conv_pw_4 (Conv2D)          (None, 18, 18, 256)       32768     \n",
            "                                                                 \n",
            " conv_pw_4_bn (BatchNormaliz  (None, 18, 18, 256)      1024      \n",
            " ation)                                                          \n",
            "                                                                 \n",
            " conv_pw_4_relu (ReLU)       (None, 18, 18, 256)       0         \n",
            "                                                                 \n",
            " conv_dw_5 (DepthwiseConv2D)  (None, 18, 18, 256)      2304      \n",
            "                                                                 \n",
            " conv_dw_5_bn (BatchNormaliz  (None, 18, 18, 256)      1024      \n",
            " ation)                                                          \n",
            "                                                                 \n",
            " conv_dw_5_relu (ReLU)       (None, 18, 18, 256)       0         \n",
            "                                                                 \n",
            " conv_pw_5 (Conv2D)          (None, 18, 18, 256)       65536     \n",
            "                                                                 \n",
            " conv_pw_5_bn (BatchNormaliz  (None, 18, 18, 256)      1024      \n",
            " ation)                                                          \n",
            "                                                                 \n",
            " conv_pw_5_relu (ReLU)       (None, 18, 18, 256)       0         \n",
            "                                                                 \n",
            " conv_pad_6 (ZeroPadding2D)  (None, 19, 19, 256)       0         \n",
            "                                                                 \n",
            " conv_dw_6 (DepthwiseConv2D)  (None, 9, 9, 256)        2304      \n",
            "                                                                 \n",
            " conv_dw_6_bn (BatchNormaliz  (None, 9, 9, 256)        1024      \n",
            " ation)                                                          \n",
            "                                                                 \n",
            " conv_dw_6_relu (ReLU)       (None, 9, 9, 256)         0         \n",
            "                                                                 \n",
            " conv_pw_6 (Conv2D)          (None, 9, 9, 512)         131072    \n",
            "                                                                 \n",
            " conv_pw_6_bn (BatchNormaliz  (None, 9, 9, 512)        2048      \n",
            " ation)                                                          \n",
            "                                                                 \n",
            " conv_pw_6_relu (ReLU)       (None, 9, 9, 512)         0         \n",
            "                                                                 \n",
            " conv_dw_7 (DepthwiseConv2D)  (None, 9, 9, 512)        4608      \n",
            "                                                                 \n",
            " conv_dw_7_bn (BatchNormaliz  (None, 9, 9, 512)        2048      \n",
            " ation)                                                          \n",
            "                                                                 \n",
            " conv_dw_7_relu (ReLU)       (None, 9, 9, 512)         0         \n",
            "                                                                 \n",
            " conv_pw_7 (Conv2D)          (None, 9, 9, 512)         262144    \n",
            "                                                                 \n",
            " conv_pw_7_bn (BatchNormaliz  (None, 9, 9, 512)        2048      \n",
            " ation)                                                          \n",
            "                                                                 \n",
            " conv_pw_7_relu (ReLU)       (None, 9, 9, 512)         0         \n",
            "                                                                 \n",
            " conv_dw_8 (DepthwiseConv2D)  (None, 9, 9, 512)        4608      \n",
            "                                                                 \n",
            " conv_dw_8_bn (BatchNormaliz  (None, 9, 9, 512)        2048      \n",
            " ation)                                                          \n",
            "                                                                 \n",
            " conv_dw_8_relu (ReLU)       (None, 9, 9, 512)         0         \n",
            "                                                                 \n",
            " conv_pw_8 (Conv2D)          (None, 9, 9, 512)         262144    \n",
            "                                                                 \n",
            " conv_pw_8_bn (BatchNormaliz  (None, 9, 9, 512)        2048      \n",
            " ation)                                                          \n",
            "                                                                 \n",
            " conv_pw_8_relu (ReLU)       (None, 9, 9, 512)         0         \n",
            "                                                                 \n",
            " conv_dw_9 (DepthwiseConv2D)  (None, 9, 9, 512)        4608      \n",
            "                                                                 \n",
            " conv_dw_9_bn (BatchNormaliz  (None, 9, 9, 512)        2048      \n",
            " ation)                                                          \n",
            "                                                                 \n",
            " conv_dw_9_relu (ReLU)       (None, 9, 9, 512)         0         \n",
            "                                                                 \n",
            " conv_pw_9 (Conv2D)          (None, 9, 9, 512)         262144    \n",
            "                                                                 \n",
            " conv_pw_9_bn (BatchNormaliz  (None, 9, 9, 512)        2048      \n",
            " ation)                                                          \n",
            "                                                                 \n",
            " conv_pw_9_relu (ReLU)       (None, 9, 9, 512)         0         \n",
            "                                                                 \n",
            " conv_dw_10 (DepthwiseConv2D  (None, 9, 9, 512)        4608      \n",
            " )                                                               \n",
            "                                                                 \n",
            " conv_dw_10_bn (BatchNormali  (None, 9, 9, 512)        2048      \n",
            " zation)                                                         \n",
            "                                                                 \n",
            " conv_dw_10_relu (ReLU)      (None, 9, 9, 512)         0         \n",
            "                                                                 \n",
            " conv_pw_10 (Conv2D)         (None, 9, 9, 512)         262144    \n",
            "                                                                 \n",
            " conv_pw_10_bn (BatchNormali  (None, 9, 9, 512)        2048      \n",
            " zation)                                                         \n",
            "                                                                 \n",
            " conv_pw_10_relu (ReLU)      (None, 9, 9, 512)         0         \n",
            "                                                                 \n",
            " conv_dw_11 (DepthwiseConv2D  (None, 9, 9, 512)        4608      \n",
            " )                                                               \n",
            "                                                                 \n",
            " conv_dw_11_bn (BatchNormali  (None, 9, 9, 512)        2048      \n",
            " zation)                                                         \n",
            "                                                                 \n",
            " conv_dw_11_relu (ReLU)      (None, 9, 9, 512)         0         \n",
            "                                                                 \n",
            " conv_pw_11 (Conv2D)         (None, 9, 9, 512)         262144    \n",
            "                                                                 \n",
            " conv_pw_11_bn (BatchNormali  (None, 9, 9, 512)        2048      \n",
            " zation)                                                         \n",
            "                                                                 \n",
            " conv_pw_11_relu (ReLU)      (None, 9, 9, 512)         0         \n",
            "                                                                 \n",
            " conv_pad_12 (ZeroPadding2D)  (None, 10, 10, 512)      0         \n",
            "                                                                 \n",
            " conv_dw_12 (DepthwiseConv2D  (None, 4, 4, 512)        4608      \n",
            " )                                                               \n",
            "                                                                 \n",
            " conv_dw_12_bn (BatchNormali  (None, 4, 4, 512)        2048      \n",
            " zation)                                                         \n",
            "                                                                 \n",
            " conv_dw_12_relu (ReLU)      (None, 4, 4, 512)         0         \n",
            "                                                                 \n",
            " conv_pw_12 (Conv2D)         (None, 4, 4, 1024)        524288    \n",
            "                                                                 \n",
            " conv_pw_12_bn (BatchNormali  (None, 4, 4, 1024)       4096      \n",
            " zation)                                                         \n",
            "                                                                 \n",
            " conv_pw_12_relu (ReLU)      (None, 4, 4, 1024)        0         \n",
            "                                                                 \n",
            " conv_dw_13 (DepthwiseConv2D  (None, 4, 4, 1024)       9216      \n",
            " )                                                               \n",
            "                                                                 \n",
            " conv_dw_13_bn (BatchNormali  (None, 4, 4, 1024)       4096      \n",
            " zation)                                                         \n",
            "                                                                 \n",
            " conv_dw_13_relu (ReLU)      (None, 4, 4, 1024)        0         \n",
            "                                                                 \n",
            " conv_pw_13 (Conv2D)         (None, 4, 4, 1024)        1048576   \n",
            "                                                                 \n",
            " conv_pw_13_bn (BatchNormali  (None, 4, 4, 1024)       4096      \n",
            " zation)                                                         \n",
            "                                                                 \n",
            " conv_pw_13_relu (ReLU)      (None, 4, 4, 1024)        0         \n",
            "                                                                 \n",
            "=================================================================\n",
            "Total params: 3,228,864\n",
            "Trainable params: 0\n",
            "Non-trainable params: 3,228,864\n",
            "_________________________________________________________________\n"
          ]
        }
      ]
    },
    {
      "cell_type": "code",
      "source": [
        "model = tf.keras.models.Sequential()\n",
        "model.add(base_model)\n",
        "model.add(tf.keras.layers.Flatten())\n",
        "model.add(tf.keras.layers.Dense(units=128, activation='relu'))\n",
        "model.add(tf.keras.layers.Dense(units=64, activation='relu'))\n",
        "model.add(tf.keras.layers.Dense(units=32, activation='relu'))\n",
        "model.add(tf.keras.layers.Dense(10, activation='softmax'))"
      ],
      "metadata": {
        "id": "VbMpSEQJG69g"
      },
      "execution_count": 15,
      "outputs": []
    },
    {
      "cell_type": "code",
      "source": [
        "model.compile(loss='categorical_crossentropy',\n",
        "              optimizer=tf.keras.optimizers.RMSprop(1e-4),\n",
        "              metrics=['accuracy'])"
      ],
      "metadata": {
        "id": "R6DeIs6XHW-R"
      },
      "execution_count": 16,
      "outputs": []
    },
    {
      "cell_type": "code",
      "source": [
        "model.summary()"
      ],
      "metadata": {
        "colab": {
          "base_uri": "https://localhost:8080/"
        },
        "id": "_DZCxdvfHan6",
        "outputId": "a202bdb8-4748-4481-eb23-fceb6e3e6510"
      },
      "execution_count": 17,
      "outputs": [
        {
          "output_type": "stream",
          "name": "stdout",
          "text": [
            "Model: \"sequential_1\"\n",
            "_________________________________________________________________\n",
            " Layer (type)                Output Shape              Param #   \n",
            "=================================================================\n",
            " mobilenet_1.00_224 (Functio  (None, 4, 4, 1024)       3228864   \n",
            " nal)                                                            \n",
            "                                                                 \n",
            " flatten_1 (Flatten)         (None, 16384)             0         \n",
            "                                                                 \n",
            " dense_3 (Dense)             (None, 128)               2097280   \n",
            "                                                                 \n",
            " dense_4 (Dense)             (None, 64)                8256      \n",
            "                                                                 \n",
            " dense_5 (Dense)             (None, 32)                2080      \n",
            "                                                                 \n",
            " dense_6 (Dense)             (None, 10)                330       \n",
            "                                                                 \n",
            "=================================================================\n",
            "Total params: 5,336,810\n",
            "Trainable params: 2,107,946\n",
            "Non-trainable params: 3,228,864\n",
            "_________________________________________________________________\n"
          ]
        }
      ]
    },
    {
      "cell_type": "code",
      "source": [
        "history = model.fit(\n",
        "    train_generator,\n",
        "    steps_per_epoch=32,\n",
        "    epochs=20,\n",
        "    validation_data=val_generator,\n",
        "    validation_steps=8,\n",
        "    callbacks=[callbacks]\n",
        ")"
      ],
      "metadata": {
        "colab": {
          "base_uri": "https://localhost:8080/"
        },
        "id": "vojPjSeQHece",
        "outputId": "98c1b910-9131-4af2-f4b1-eb70e7141673"
      },
      "execution_count": 18,
      "outputs": [
        {
          "output_type": "stream",
          "name": "stdout",
          "text": [
            "Epoch 1/20\n",
            "32/32 [==============================] - 35s 993ms/step - loss: 1.7338 - accuracy: 0.4150 - val_loss: 1.3882 - val_accuracy: 0.5370\n",
            "Epoch 2/20\n",
            "32/32 [==============================] - 31s 986ms/step - loss: 1.0188 - accuracy: 0.6591 - val_loss: 1.0958 - val_accuracy: 0.6490\n",
            "Epoch 3/20\n",
            "32/32 [==============================] - 30s 956ms/step - loss: 0.7638 - accuracy: 0.7407 - val_loss: 0.8553 - val_accuracy: 0.7270\n",
            "Epoch 4/20\n",
            "32/32 [==============================] - 29s 899ms/step - loss: 0.6440 - accuracy: 0.7887 - val_loss: 0.7109 - val_accuracy: 0.7550\n",
            "Epoch 5/20\n",
            "32/32 [==============================] - 29s 913ms/step - loss: 0.5969 - accuracy: 0.8047 - val_loss: 0.7609 - val_accuracy: 0.7510\n",
            "Epoch 6/20\n",
            "32/32 [==============================] - 30s 934ms/step - loss: 0.5144 - accuracy: 0.8276 - val_loss: 0.6779 - val_accuracy: 0.7690\n",
            "Epoch 7/20\n",
            "32/32 [==============================] - 29s 923ms/step - loss: 0.4343 - accuracy: 0.8584 - val_loss: 0.5893 - val_accuracy: 0.7970\n",
            "Epoch 8/20\n",
            "32/32 [==============================] - 32s 1s/step - loss: 0.4038 - accuracy: 0.8672 - val_loss: 0.6470 - val_accuracy: 0.7880\n",
            "Epoch 9/20\n",
            "32/32 [==============================] - 29s 921ms/step - loss: 0.3652 - accuracy: 0.8809 - val_loss: 0.5849 - val_accuracy: 0.8120\n",
            "Epoch 10/20\n",
            "32/32 [==============================] - 29s 901ms/step - loss: 0.3668 - accuracy: 0.8803 - val_loss: 0.8871 - val_accuracy: 0.7440\n",
            "Epoch 11/20\n",
            "32/32 [==============================] - 30s 916ms/step - loss: 0.3466 - accuracy: 0.8816 - val_loss: 0.5615 - val_accuracy: 0.8260\n",
            "Epoch 12/20\n",
            "32/32 [==============================] - 30s 936ms/step - loss: 0.3038 - accuracy: 0.8997 - val_loss: 0.5394 - val_accuracy: 0.8270\n",
            "Epoch 13/20\n",
            "32/32 [==============================] - 31s 969ms/step - loss: 0.3230 - accuracy: 0.8901 - val_loss: 0.5088 - val_accuracy: 0.8390\n",
            "Epoch 14/20\n",
            "32/32 [==============================] - 28s 885ms/step - loss: 0.3012 - accuracy: 0.8981 - val_loss: 0.4655 - val_accuracy: 0.8410\n",
            "Epoch 15/20\n",
            "32/32 [==============================] - 31s 979ms/step - loss: 0.2890 - accuracy: 0.9028 - val_loss: 0.4593 - val_accuracy: 0.8480\n",
            "Epoch 16/20\n",
            "32/32 [==============================] - 29s 896ms/step - loss: 0.2422 - accuracy: 0.9150 - val_loss: 0.4566 - val_accuracy: 0.8460\n",
            "Epoch 17/20\n",
            "32/32 [==============================] - 29s 905ms/step - loss: 0.2436 - accuracy: 0.9179 - val_loss: 0.4820 - val_accuracy: 0.8540\n",
            "Epoch 18/20\n",
            "32/32 [==============================] - 29s 912ms/step - loss: 0.2314 - accuracy: 0.9207 - val_loss: 0.4707 - val_accuracy: 0.8530\n",
            "Epoch 19/20\n",
            "32/32 [==============================] - 32s 1s/step - loss: 0.2469 - accuracy: 0.9150 - val_loss: 0.4498 - val_accuracy: 0.8600\n",
            "Epoch 20/20\n",
            "32/32 [==============================] - 34s 1s/step - loss: 0.2197 - accuracy: 0.9270 - val_loss: 0.5310 - val_accuracy: 0.8330\n"
          ]
        }
      ]
    },
    {
      "cell_type": "code",
      "source": [
        "import matplotlib.pyplot as plt\n",
        "acc = history.history['accuracy']\n",
        "val_acc = history.history['val_accuracy']\n",
        "\n",
        "epochs = range(len(acc))\n",
        "\n",
        "plt.plot(epochs, acc, 'r', label='traing accuracy')\n",
        "plt.plot(epochs, val_acc, 'b', label='validation accuracy')\n",
        "plt.title('Training & Validation Accuracy')\n",
        "plt.legend(loc='best')\n",
        "plt.figure()\n",
        "plt.show()"
      ],
      "metadata": {
        "colab": {
          "base_uri": "https://localhost:8080/",
          "height": 469
        },
        "id": "uV17K9hmKK05",
        "outputId": "c7518e08-1f3e-4762-8618-77ca3e2f653f"
      },
      "execution_count": 19,
      "outputs": [
        {
          "output_type": "display_data",
          "data": {
            "text/plain": [
              "<Figure size 640x480 with 1 Axes>"
            ],
            "image/png": "[encoded data removed]"
          },
          "metadata": {}
        },
        {
          "output_type": "display_data",
          "data": {
            "text/plain": [
              "<Figure size 640x480 with 0 Axes>"
            ]
          },
          "metadata": {}
        }
      ]
    },
    {
      "cell_type": "code",
      "source": [
        "loss = history.history['loss']\n",
        "val_loss = history.history['val_loss']\n",
        "\n",
        "epochs = range(len(acc))\n",
        "\n",
        "plt.plot(epochs, loss, 'r', label='traing loss')\n",
        "plt.plot(epochs, val_loss, 'b', label='validation loss')\n",
        "plt.title('Training & Validation Loss')\n",
        "plt.legend(loc='best')\n",
        "plt.figure()\n",
        "plt.show()"
      ],
      "metadata": {
        "colab": {
          "base_uri": "https://localhost:8080/",
          "height": 469
        },
        "id": "uiFMrK_IORUB",
        "outputId": "3cc66e7e-3443-4bb7-a0d0-35e831534a70"
      },
      "execution_count": 20,
      "outputs": [
        {
          "output_type": "display_data",
          "data": {
            "text/plain": [
              "<Figure size 640x480 with 1 Axes>"
            ],
            "image/png": "[encoded data removed]"
          },
          "metadata": {}
        },
        {
          "output_type": "display_data",
          "data": {
            "text/plain": [
              "<Figure size 640x480 with 0 Axes>"
            ]
          },
          "metadata": {}
        }
      ]
    },
    {
      "cell_type": "code",
      "source": [
        "model.save(\"model_tomato.h5\")"
      ],
      "metadata": {
        "id": "y3JCpelQOp1w"
      },
      "execution_count": 21,
      "outputs": []
    }
  ]
}